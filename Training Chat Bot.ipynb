{
 "cells": [
  {
   "cell_type": "code",
   "execution_count": 39,
   "metadata": {},
   "outputs": [
    {
     "name": "stdout",
     "output_type": "stream",
     "text": [
      "The autoreload extension is already loaded. To reload it, use:\n",
      "  %reload_ext autoreload\n"
     ]
    }
   ],
   "source": [
    "%load_ext autoreload\n",
    "%autoreload 2"
   ]
  },
  {
   "cell_type": "markdown",
   "metadata": {},
   "source": [
    "# Training ChatBot off your iMessage texts\n",
    "\n",
    "Grabbing the training data doesn't seem to be fully automatable. So I'll guide you through how to parse iMessages."
   ]
  },
  {
   "cell_type": "markdown",
   "metadata": {},
   "source": [
    "# Gather Training Data\n",
    "If you haven't yet...\n",
    "1. Go into `System Preferences` -> `Security` -> `Full Disk Access` and give `Terminal` permissions.\n",
    "2. Go to `/Users/{your username}/Library/Messages/chat.db` and copy that file into the `imessage_bot` folder. I have .gitignore set to ignore all .db files so you don't have to worry about your personal info getting uploaded to GitHub.\n",
    "\n",
    "## Get messages for a given phone number"
   ]
  },
  {
   "cell_type": "code",
   "execution_count": 3,
   "metadata": {},
   "outputs": [],
   "source": [
    "import sqlite3\n",
    "import pandas as pd"
   ]
  },
  {
   "cell_type": "code",
   "execution_count": 4,
   "metadata": {},
   "outputs": [
    {
     "name": "stdout",
     "output_type": "stream",
     "text": [
      "For phone number: +16266895189, the associated id is [140, 8]\n"
     ]
    }
   ],
   "source": [
    "phone_number = '+16266895189'\n",
    "\n",
    "### \n",
    "conn = sqlite3.connect('chat.db')\n",
    "cursor = conn.cursor()\n",
    "\n",
    "cursor.execute(f'SELECT * FROM handle WHERE id=\"{phone_number}\"')\n",
    "tables = cursor.fetchall()\n",
    "\n",
    "print(f\"For phone number: {phone_number}, the associated id is {[idx[0] for idx in tables]}\")\n"
   ]
  },
  {
   "cell_type": "code",
   "execution_count": 141,
   "metadata": {},
   "outputs": [
    {
     "data": {
      "text/html": [
       "<div>\n",
       "<style scoped>\n",
       "    .dataframe tbody tr th:only-of-type {\n",
       "        vertical-align: middle;\n",
       "    }\n",
       "\n",
       "    .dataframe tbody tr th {\n",
       "        vertical-align: top;\n",
       "    }\n",
       "\n",
       "    .dataframe thead th {\n",
       "        text-align: right;\n",
       "    }\n",
       "</style>\n",
       "<table border=\"1\" class=\"dataframe\">\n",
       "  <thead>\n",
       "    <tr style=\"text-align: right;\">\n",
       "      <th></th>\n",
       "      <th>text</th>\n",
       "      <th>is_from_me</th>\n",
       "    </tr>\n",
       "  </thead>\n",
       "  <tbody>\n",
       "    <tr>\n",
       "      <th>0</th>\n",
       "      <td>https://usc.zoom.us/j/8072267340?pwd=b0RVNjFaS...</td>\n",
       "      <td>1</td>\n",
       "    </tr>\n",
       "    <tr>\n",
       "      <th>1</th>\n",
       "      <td>let me innn</td>\n",
       "      <td>0</td>\n",
       "    </tr>\n",
       "    <tr>\n",
       "      <th>2</th>\n",
       "      <td>O LOL</td>\n",
       "      <td>1</td>\n",
       "    </tr>\n",
       "    <tr>\n",
       "      <th>3</th>\n",
       "      <td>IM NOT SHOWERING</td>\n",
       "      <td>0</td>\n",
       "    </tr>\n",
       "    <tr>\n",
       "      <th>4</th>\n",
       "      <td>o what y is it blue</td>\n",
       "      <td>0</td>\n",
       "    </tr>\n",
       "  </tbody>\n",
       "</table>\n",
       "</div>"
      ],
      "text/plain": [
       "                                                text  is_from_me\n",
       "0  https://usc.zoom.us/j/8072267340?pwd=b0RVNjFaS...           1\n",
       "1                                        let me innn           0\n",
       "2                                              O LOL           1\n",
       "3                                   IM NOT SHOWERING           0\n",
       "4                                o what y is it blue           0"
      ]
     },
     "execution_count": 141,
     "metadata": {},
     "output_type": "execute_result"
    }
   ],
   "source": [
    "idx = 8 # Get from previous slide\n",
    "\n",
    "### Find text messages from a specific conversation\n",
    "def get_texts(idx: int):\n",
    "    cursor.execute(f\"SELECT text, is_from_me FROM message WHERE handle_id = {idx};\")\n",
    "    tables = cursor.fetchall()\n",
    "\n",
    "    df = pd.DataFrame(tables, columns=['text', 'is_from_me'])\n",
    "    df.fillna('', inplace=True)\n",
    "    \n",
    "    return df\n",
    "\n",
    "df = get_texts(idx)\n",
    "df.head()"
   ]
  },
  {
   "cell_type": "markdown",
   "metadata": {},
   "source": [
    "## Parse it into call and reponse pairs for spaCy training"
   ]
  },
  {
   "cell_type": "code",
   "execution_count": 165,
   "metadata": {},
   "outputs": [],
   "source": [
    "def group_messages(df):\n",
    "        \n",
    "    output = []\n",
    "    current_group = {'text': '', 'response': ''}\n",
    "    \n",
    "    if len(df) == 0:\n",
    "        return output\n",
    "    \n",
    "    previous = df['is_from_me'].iloc[0]\n",
    "    while previous == 1:\n",
    "        df = df.drop(index=0)\n",
    "        df = df.reset_index(drop=True)\n",
    "        if len(df) == 0:\n",
    "            return output\n",
    "        previous = df['is_from_me'].iloc[0]\n",
    "    \n",
    "    for _, rows in df.iterrows():\n",
    "        i = rows['is_from_me']\n",
    "        text = rows['text']\n",
    "        if (i == 0) and (previous == 0):\n",
    "            current_group['text'] += ' ' + text\n",
    "        elif (i == 1) and (previous == 0):\n",
    "            current_group['response'] += text\n",
    "            previous = 1\n",
    "        elif (i == 1) and (previous == 1):\n",
    "            current_group['response'] += ' ' + text\n",
    "        elif (i == 0) and (previous == 1):\n",
    "            output.append(current_group)\n",
    "            current_group = {'text': text, 'response': ''}\n",
    "            previous = 0\n",
    "        else:\n",
    "            raise ValueError(\"Column 'is_from_me' in chat.db has changed.\")\n",
    "    if len(output) == 0:\n",
    "        return output\n",
    "    output.pop()\n",
    "    return output\n",
    "\n",
    "\n",
    "training_data = group_messages(df)"
   ]
  },
  {
   "cell_type": "code",
   "execution_count": 166,
   "metadata": {},
   "outputs": [
    {
     "data": {
      "text/html": [
       "<div>\n",
       "<style scoped>\n",
       "    .dataframe tbody tr th:only-of-type {\n",
       "        vertical-align: middle;\n",
       "    }\n",
       "\n",
       "    .dataframe tbody tr th {\n",
       "        vertical-align: top;\n",
       "    }\n",
       "\n",
       "    .dataframe thead th {\n",
       "        text-align: right;\n",
       "    }\n",
       "</style>\n",
       "<table border=\"1\" class=\"dataframe\">\n",
       "  <thead>\n",
       "    <tr style=\"text-align: right;\">\n",
       "      <th></th>\n",
       "      <th>text</th>\n",
       "      <th>response</th>\n",
       "    </tr>\n",
       "  </thead>\n",
       "  <tbody>\n",
       "    <tr>\n",
       "      <th>0</th>\n",
       "      <td>let me innn</td>\n",
       "      <td>O LOL</td>\n",
       "    </tr>\n",
       "    <tr>\n",
       "      <th>1</th>\n",
       "      <td>IM NOT SHOWERING o what y is it blue</td>\n",
       "      <td>Idfk BRUH Bruh moment Ah sucks to suck</td>\n",
       "    </tr>\n",
       "    <tr>\n",
       "      <th>2</th>\n",
       "      <td>https://play.typeracer.com?rt=mslf1n3h7</td>\n",
       "      <td>￼   I fee like the original set was too editor...</td>\n",
       "    </tr>\n",
       "    <tr>\n",
       "      <th>3</th>\n",
       "      <td>ahhhh THESE R CRAZY UR INSANE</td>\n",
       "      <td>Leg ones go HUH</td>\n",
       "    </tr>\n",
       "    <tr>\n",
       "      <th>4</th>\n",
       "      <td>GO CRAZY ur insane i looked closer ur crazyy h...</td>\n",
       "      <td>My phone gone die *gonna So text me here when ...</td>\n",
       "    </tr>\n",
       "    <tr>\n",
       "      <th>...</th>\n",
       "      <td>...</td>\n",
       "      <td>...</td>\n",
       "    </tr>\n",
       "    <tr>\n",
       "      <th>1662</th>\n",
       "      <td>bruhh  i was waitinh for u</td>\n",
       "      <td>I’m sorry my ally pie</td>\n",
       "    </tr>\n",
       "    <tr>\n",
       "      <th>1663</th>\n",
       "      <td>clarky?</td>\n",
       "      <td>Yes</td>\n",
       "    </tr>\n",
       "    <tr>\n",
       "      <th>1664</th>\n",
       "      <td>answer my ft ￼ good morning love :) sorry i ha...</td>\n",
       "      <td>Still positive  I’m gonna curl up and die</td>\n",
       "    </tr>\n",
       "    <tr>\n",
       "      <th>1665</th>\n",
       "      <td>ur joking do u not get to test everyday</td>\n",
       "      <td>He’s getting the nurse</td>\n",
       "    </tr>\n",
       "    <tr>\n",
       "      <th>1666</th>\n",
       "      <td>bruhhh was it like a quick positive or did it ...</td>\n",
       "      <td>It only took 5 min for a positive  Ally pie?</td>\n",
       "    </tr>\n",
       "  </tbody>\n",
       "</table>\n",
       "<p>1667 rows × 2 columns</p>\n",
       "</div>"
      ],
      "text/plain": [
       "                                                   text  \\\n",
       "0                                           let me innn   \n",
       "1                  IM NOT SHOWERING o what y is it blue   \n",
       "2               https://play.typeracer.com?rt=mslf1n3h7   \n",
       "3                         ahhhh THESE R CRAZY UR INSANE   \n",
       "4     GO CRAZY ur insane i looked closer ur crazyy h...   \n",
       "...                                                 ...   \n",
       "1662                         bruhh  i was waitinh for u   \n",
       "1663                                            clarky?   \n",
       "1664  answer my ft ￼ good morning love :) sorry i ha...   \n",
       "1665            ur joking do u not get to test everyday   \n",
       "1666  bruhhh was it like a quick positive or did it ...   \n",
       "\n",
       "                                               response  \n",
       "0                                                 O LOL  \n",
       "1                Idfk BRUH Bruh moment Ah sucks to suck  \n",
       "2     ￼   I fee like the original set was too editor...  \n",
       "3                                       Leg ones go HUH  \n",
       "4     My phone gone die *gonna So text me here when ...  \n",
       "...                                                 ...  \n",
       "1662                              I’m sorry my ally pie  \n",
       "1663                                                Yes  \n",
       "1664          Still positive  I’m gonna curl up and die  \n",
       "1665                            He’s getting the nurse   \n",
       "1666       It only took 5 min for a positive  Ally pie?  \n",
       "\n",
       "[1667 rows x 2 columns]"
      ]
     },
     "execution_count": 166,
     "metadata": {},
     "output_type": "execute_result"
    }
   ],
   "source": [
    "output_df = pd.DataFrame(training_data)\n",
    "output_df"
   ]
  },
  {
   "cell_type": "code",
   "execution_count": 157,
   "metadata": {},
   "outputs": [],
   "source": [
    "train_data = []\n",
    "for data in training_data:\n",
    "    train_data.append(data['text'])\n",
    "    train_data.append(data['response'])"
   ]
  },
  {
   "cell_type": "markdown",
   "metadata": {},
   "source": [
    "# Creating Chatbot using `Chatterbot`"
   ]
  },
  {
   "cell_type": "code",
   "execution_count": 144,
   "metadata": {},
   "outputs": [
    {
     "name": "stdout",
     "output_type": "stream",
     "text": [
      "List Trainer: [                    ] 2%"
     ]
    },
    {
     "name": "stderr",
     "output_type": "stream",
     "text": [
      "[nltk_data] Error loading averaged_perceptron_tagger: <urlopen error\n",
      "[nltk_data]     [SSL: CERTIFICATE_VERIFY_FAILED] certificate verify\n",
      "[nltk_data]     failed: unable to get local issuer certificate\n",
      "[nltk_data]     (_ssl.c:997)>\n",
      "[nltk_data] Error loading punkt: <urlopen error [SSL:\n",
      "[nltk_data]     CERTIFICATE_VERIFY_FAILED] certificate verify failed:\n",
      "[nltk_data]     unable to get local issuer certificate (_ssl.c:997)>\n",
      "[nltk_data] Error loading stopwords: <urlopen error [SSL:\n",
      "[nltk_data]     CERTIFICATE_VERIFY_FAILED] certificate verify failed:\n",
      "[nltk_data]     unable to get local issuer certificate (_ssl.c:997)>\n"
     ]
    },
    {
     "name": "stdout",
     "output_type": "stream",
     "text": [
      "List Trainer: [##################  ] 90%"
     ]
    },
    {
     "name": "stderr",
     "output_type": "stream",
     "text": [
      "IOPub message rate exceeded.\n",
      "The notebook server will temporarily stop sending output\n",
      "to the client in order to avoid crashing it.\n",
      "To change this limit, set the config variable\n",
      "`--NotebookApp.iopub_msg_rate_limit`.\n",
      "\n",
      "Current values:\n",
      "NotebookApp.iopub_msg_rate_limit=1000.0 (msgs/sec)\n",
      "NotebookApp.rate_limit_window=3.0 (secs)\n",
      "\n"
     ]
    }
   ],
   "source": [
    "from chatterbot import ChatBot\n",
    "from chatterbot.trainers import ListTrainer\n",
    "\n",
    "# Create a new chat bot named Clark\n",
    "chatbot = ChatBot('Clark')\n",
    "trainer = ListTrainer(chatbot)\n",
    "trainer.train(train_data)"
   ]
  },
  {
   "cell_type": "code",
   "execution_count": 187,
   "metadata": {},
   "outputs": [
    {
     "name": "stdout",
     "output_type": "stream",
     "text": [
      "Do you wanna cuddle?\n",
      "O just wanted to ask if u wanted to hang sun to do hw!\n"
     ]
    }
   ],
   "source": [
    "prompt = \"\"\"Do you wanna cuddle?\"\"\"\n",
    "response = chatbot.get_response(prompt)\n",
    "\n",
    "print(prompt)\n",
    "print(response)"
   ]
  },
  {
   "cell_type": "markdown",
   "metadata": {},
   "source": [
    "# Training the Bot on ALL of my Text Messages"
   ]
  },
  {
   "cell_type": "code",
   "execution_count": 188,
   "metadata": {},
   "outputs": [
    {
     "name": "stderr",
     "output_type": "stream",
     "text": [
      "100%|█████████████████████████████████████████████████| 87/87 [00:00<00:00, 131213.39it/s]\n"
     ]
    }
   ],
   "source": [
    "from tqdm import tqdm\n",
    "\n",
    "conn = sqlite3.connect('chat.db')\n",
    "cursor = conn.cursor()\n",
    "\n",
    "all_texts = [get_texts(idx) for idx in range(1,207 + 1)]\n",
    "all_grouped_texts = [group_messages(df) for df in all_texts if (len(group_messages(df)) != 0)]\n",
    "\n",
    "\n",
    "train_data = []\n",
    "for conversation in tqdm(all_grouped_texts):\n",
    "    for data in conversation:\n",
    "        # train_data.append(data['text'])\n",
    "        train_data.append(data['response'])\n",
    "        \n"
   ]
  },
  {
   "cell_type": "code",
   "execution_count": 189,
   "metadata": {},
   "outputs": [
    {
     "ename": "ModuleNotFoundError",
     "evalue": "No module named 'transformers'",
     "output_type": "error",
     "traceback": [
      "\u001b[0;31m---------------------------------------------------------------------------\u001b[0m",
      "\u001b[0;31mModuleNotFoundError\u001b[0m                       Traceback (most recent call last)",
      "Input \u001b[0;32mIn [189]\u001b[0m, in \u001b[0;36m<cell line: 1>\u001b[0;34m()\u001b[0m\n\u001b[0;32m----> 1\u001b[0m \u001b[38;5;28;01mfrom\u001b[39;00m \u001b[38;5;21;01mtransformers\u001b[39;00m \u001b[38;5;28;01mimport\u001b[39;00m GPT2LMHeadModel, GPT2Tokenizer, Trainer, TrainingArguments\n\u001b[1;32m      3\u001b[0m \u001b[38;5;66;03m# Load the preexisting GPT-2 model\u001b[39;00m\n\u001b[1;32m      4\u001b[0m model \u001b[38;5;241m=\u001b[39m GPT2LMHeadModel\u001b[38;5;241m.\u001b[39mfrom_pretrained(\u001b[38;5;124m'\u001b[39m\u001b[38;5;124mgpt2\u001b[39m\u001b[38;5;124m'\u001b[39m)\n",
      "\u001b[0;31mModuleNotFoundError\u001b[0m: No module named 'transformers'"
     ]
    }
   ],
   "source": [
    "from transformers import GPT2LMHeadModel, GPT2Tokenizer, Trainer, TrainingArguments\n",
    "\n",
    "# Load the preexisting GPT-2 model\n",
    "model = GPT2LMHeadModel.from_pretrained('gpt2')\n",
    "tokenizer = GPT2Tokenizer.from_pretrained('gpt2')\n",
    "\n",
    "# Tokenize the training data\n",
    "train_tokenized = [tokenizer.encode(text) for text in train_data]\n",
    "\n",
    "# Fine-tune the GPT-2 model\n",
    "training_args = TrainingArguments(\n",
    "    output_dir='./results',\n",
    "    num_train_epochs=5,\n",
    "    per_device_train_batch_size=16,\n",
    "    per_device_eval_batch_size=64,\n",
    "    warmup_steps=500,\n",
    "    weight_decay=0.01,\n",
    "    logging_dir='./logs',\n",
    "    logging_steps=100\n",
    ")\n",
    "\n",
    "trainer = Trainer(\n",
    "    model=model,\n",
    "    args=training_args,\n",
    "    train_dataset=train_tokenized\n",
    ")\n",
    "\n",
    "trainer.train()\n",
    "\n",
    "# Generate text with the fine-tuned model\n",
    "generated_text = model.generate(\n",
    "    input_ids=tokenizer.encode(\"This is an example\"),\n",
    "    max_length=50,\n",
    "    do_sample=True,\n",
    "    top_k=50\n",
    ")\n",
    "\n",
    "# Decode the generated text\n",
    "decoded_text = tokenizer.decode(generated_text[0], skip_special_tokens=True)\n",
    "print(decoded_text)\n"
   ]
  },
  {
   "cell_type": "code",
   "execution_count": 183,
   "metadata": {},
   "outputs": [
    {
     "name": "stdout",
     "output_type": "stream",
     "text": [
      "Meow\n",
      "￼i designed this poster in 2 hours im so drained ￼ sunset!! im at cabin now 🦃hello friends!! this is a groupchat for my friendsgiving get together for WEDNESDAY NOV 23RD at 7PM! My address is 2809 Ellendale Place. ✨the vibes are: i invited a lot of ppl who dont know each other but i vibe w u and want u to meet each other and itll be a good chill time this will b potluck style so i made a spreadsheet to see who is bringing what! feel free to invite other chill ppl if u want to as well im v excited for this guys yayay https://docs.google.com/spreadsheets/d/15H0pe2EBCmoN_WQmwJNVmPK9W9HTfxu3MN6XZ8rHS-Q/edit?usp=sharing Loved “I’ll bring some poke !” how is ur day clarky clark wait did u ft me haha\n"
     ]
    }
   ],
   "source": [
    "prompt = \"\"\"Meow\"\"\"\n",
    "\n",
    "response = chatbot.get_response(prompt)\n",
    "\n",
    "print(prompt)\n",
    "print(response)"
   ]
  },
  {
   "cell_type": "code",
   "execution_count": null,
   "metadata": {},
   "outputs": [],
   "source": []
  }
 ],
 "metadata": {
  "kernelspec": {
   "display_name": "Python 3 (ipykernel)",
   "language": "python",
   "name": "python3"
  },
  "language_info": {
   "codemirror_mode": {
    "name": "ipython",
    "version": 3
   },
   "file_extension": ".py",
   "mimetype": "text/x-python",
   "name": "python",
   "nbconvert_exporter": "python",
   "pygments_lexer": "ipython3",
   "version": "3.10.1"
  },
  "vscode": {
   "interpreter": {
    "hash": "c147d7a32d14d18cb53311f3f9a92e0a9b32b5880d17c82839817e31db7a4995"
   }
  }
 },
 "nbformat": 4,
 "nbformat_minor": 2
}
